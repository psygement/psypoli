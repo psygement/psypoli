{
 "cells": [
  {
   "cell_type": "markdown",
   "metadata": {},
   "source": [
    "# 제 2 편 부동산 임대료 결정 모형\n",
    "* 제3장 부동산 서비스 시장의 수요-공급 모형\n",
    "* 제4장 단핵도시 모형과 도시 공간구조의 분석\n",
    "* <font color=\"red\">제5장 헤도닉 가격함수와 그 활용</font>"
   ]
  },
  {
   "cell_type": "markdown",
   "metadata": {},
   "source": [
    "# 제5장 헤도닉 가격함수와 그 활용"
   ]
  },
  {
   "cell_type": "markdown",
   "metadata": {},
   "source": [
    "* 싸이지먼트/싸이폴리 : 파트 5 - 부동산 경제학 [1]\n",
    "* 김무성"
   ]
  },
  {
   "cell_type": "markdown",
   "metadata": {},
   "source": [
    "#### 참고\n",
    "* 본래 2015년 출간본[1]으로 스터디가 진행되나, 이 발표자료는 2010년 책[2]을 바탕으로 작성되었습니다. 이후 다시 2015년판의 내용을 반영하겠습니다."
   ]
  },
  {
   "cell_type": "markdown",
   "metadata": {},
   "source": [
    "# 참고자료\n",
    "* [1] 부동산 경제학 (개정판,2015)- http://www.aladin.co.kr/shop/wproduct.aspx?ItemId=54258820\n",
    "* [2] 부동산 경제학 (2011) - http://www.aladin.co.kr/shop/wproduct.aspx?ItemId=7714001\n",
    "* [3] 헤도닉 가격함수와 그 활용 - https://prezi.com/y8bqml4xyyff/copy-of/\n",
    "\n",
    "#### Python package\n",
    "* UrbanSim - https://github.com/udst/urbansim\n",
    "\n",
    "#### Data\n",
    "* Ames Housing dataset (House Prices: Advanced Regression Techniques) - https://www.kaggle.com/c/house-prices-advanced-regression-techniques\n",
    "* Boston Housing Data Set - https://archive.ics.uci.edu/ml/datasets/Housing\n",
    "* Analyzing data from the city of Montreal - http://rl.cs.mcgill.ca/comp598/fall2014/\n",
    "\n",
    "##### Python examples\n",
    "* Predicting LendingClub interest rates with Linear Regression - https://shankarmsy.github.io/stories/linear-reg-sklearn.html\n",
    "* Scikit-Learn 패키지의 샘플 데이터 - 회귀 분석용 보스턴 집값 -  https://www.datascienceschool.net/view-notebook/4b948c4d99c94213bf02bcff2ced88eb/\n",
    "* Linear Regression in Tensorflow - https://aqibsaeed.github.io/2016-07-07-TensorflowLR/\n",
    "* Boston Home Prices Prediction and Evaluation - https://www.ritchieng.com/machine-learning-project-boston-home-prices/\n",
    "\n",
    "##### R examples\n",
    "* Boston Housing Prices - https://rpubs.com/yroy/Boston\n",
    "* 3 Analyzing Data - http://www.clemson.edu/economics/faculty/wilson/R-tutorial/analyzing_data.html\n",
    "* 4 Linear Regression - http://www.clemson.edu/economics/faculty/wilson/R-tutorial/regression.html\n",
    "\n",
    "#### Deep Learning\n",
    "* Regression Tutorial with the Keras Deep Learning Library in Python - http://machinelearningmastery.com/regression-tutorial-keras-deep-learning-library-python/\n",
    "* Using Keras to predict Boston house-prices (Deep Learning) - https://github.com/sunyam/HousePrices_Regression\n",
    "* Beyond Spatial Auto-Regressive Models: Predicting Housing Prices with Satellite Imagery - https://arxiv.org/abs/1610.04805"
   ]
  }
 ],
 "metadata": {
  "kernelspec": {
   "display_name": "Python 2",
   "language": "python",
   "name": "python2"
  },
  "language_info": {
   "codemirror_mode": {
    "name": "ipython",
    "version": 2
   },
   "file_extension": ".py",
   "mimetype": "text/x-python",
   "name": "python",
   "nbconvert_exporter": "python",
   "pygments_lexer": "ipython2",
   "version": "2.7.6"
  }
 },
 "nbformat": 4,
 "nbformat_minor": 0
}
